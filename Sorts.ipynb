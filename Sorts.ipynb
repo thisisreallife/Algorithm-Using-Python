{
 "cells": [
  {
   "cell_type": "markdown",
   "metadata": {},
   "source": [
    "# 排序"
   ]
  },
  {
   "cell_type": "markdown",
   "metadata": {},
   "source": [
    "素材：\n",
    "1. [史上最简单十大排序算法（Python实现）](https://blog.csdn.net/weixin_41571493/article/details/81875088)\n",
    "2. [Python实现十大经典排序算法](https://www.jianshu.com/p/bbbab7fa77a2)\n",
    "3. [Python实现十三大查找和排序算法](https://blog.csdn.net/Asher117/article/details/89500637)\n",
    "4. [All Algorithms implemented in Python](https://github.com/TheAlgorithms/Python)"
   ]
  },
  {
   "cell_type": "markdown",
   "metadata": {
    "ExecuteTime": {
     "end_time": "2019-10-27T02:49:15.300940Z",
     "start_time": "2019-10-27T02:49:15.277999Z"
    }
   },
   "source": [
    "有空可以整理一下，对于不同的数据结构，实现他们的增删查改，并计算复杂度。怎么通过模拟来发现自己的算法复杂度是否符合要求？一般用什么python code？"
   ]
  },
  {
   "cell_type": "markdown",
   "metadata": {
    "ExecuteTime": {
     "end_time": "2019-10-25T11:36:44.287793Z",
     "start_time": "2019-10-25T11:36:44.285793Z"
    }
   },
   "source": [
    "## 排序的分类 与 相关概念"
   ]
  },
  {
   "cell_type": "markdown",
   "metadata": {},
   "source": [
    "**是否使用额外空间**：\n",
    "- 内部排序：只使用内存\n",
    "- 外部排序：内存和外存同时使用\n",
    "\n",
    "**时间复杂度**：\n",
    "- 非线性时间比较类排序：通过比较来决定元素间的相对次序，由于其时间复杂度不能突破O(nlogn)，因此称为非线性时间比较类排序、\n",
    "- 线性时间非比较类排序： 不通过比较来决定元素间的相对次序，它可以突破基于比较排序的时间下界，以线性时间运行，因此称为线性时间非比较类排序。"
   ]
  },
  {
   "cell_type": "markdown",
   "metadata": {
    "ExecuteTime": {
     "end_time": "2019-10-25T11:48:00.378232Z",
     "start_time": "2019-10-25T11:48:00.359282Z"
    }
   },
   "source": [
    "**相关概念：**\n",
    "- 稳定：如果a=b，排序不改变他们原始的次序\n",
    "- 时间复杂度：对于排序数据的总的操作次数与n的关系\n",
    "- 空间复杂度：算法执行时所需要的储存空间大小与n的关系"
   ]
  },
  {
   "cell_type": "markdown",
   "metadata": {},
   "source": [
    "### 冒泡排序 Bubble Sort"
   ]
  },
  {
   "cell_type": "markdown",
   "metadata": {},
   "source": [
    "> 思想：\n",
    "1. 比较相邻的元素，如果第一个比第二个更大，那么交换他们两\n",
    "2. 对每一对相邻的元素做同样的操作，从最开始的前两个数，到最后两个数。这样排在最后的数会是整个数列中最大的\n",
    "3. 对数列重复以上操作，排除最后一个已经被排好序的数字。\n",
    "4. 重复1-3，直到排序完成\n",
    "\n",
    "冒泡排序对n个数据操作n-1轮，每一轮能找到一个最大值。\n",
    "\n",
    "操作只对相邻两个数进行比较与交换，每一轮能把最值交换到数据的列尾，就像冒泡一样。\n",
    "\n",
    "每一轮操作O(n)次，共O(n)轮，所以时间复杂度是O(n^2)\n",
    "\n",
    "额外空间开销出现在交换数据的时候，需要一个过渡空间，空间复杂度是O(1)"
   ]
  },
  {
   "cell_type": "code",
   "execution_count": 7,
   "metadata": {
    "ExecuteTime": {
     "end_time": "2019-10-27T12:52:07.170160Z",
     "start_time": "2019-10-27T12:52:07.165196Z"
    }
   },
   "outputs": [],
   "source": [
    "import numpy as np\n",
    "def BubbleSort(arr):\n",
    "    n = len(arr)\n",
    "    if n <= 1:\n",
    "        return arr\n",
    "    else:\n",
    "        for i in range(n):\n",
    "            for j in range(n-i-1):\n",
    "                if arr[j] > arr[j+1]:\n",
    "                    arr[j+1],arr[j] = arr[j],arr[j+1]\n",
    "        return arr"
   ]
  },
  {
   "cell_type": "code",
   "execution_count": 8,
   "metadata": {
    "ExecuteTime": {
     "end_time": "2019-10-27T12:52:07.190130Z",
     "start_time": "2019-10-27T12:52:07.171158Z"
    }
   },
   "outputs": [],
   "source": [
    "def test_case(method,arr,**kwargs):\n",
    "    # using default sort function to get the real sorted arr\n",
    "    arr_sort = sorted(arr)\n",
    "    \n",
    "    # print the original arr to be sorted\n",
    "    print('排序前的数列：\\n',np.array(arr))\n",
    "    \n",
    "    # sort on the original arr\n",
    "    new_arr = np.array(method(arr,**kwargs))\n",
    "    print('排序后的数列：\\n',new_arr)\n",
    "    \n",
    "    # if our method can get the same result with python default sorted method\n",
    "    print('Does our method work? Answer is',np.array_equiv(arr_sort,new_arr))"
   ]
  },
  {
   "cell_type": "code",
   "execution_count": 9,
   "metadata": {
    "ExecuteTime": {
     "end_time": "2019-10-27T12:52:07.200105Z",
     "start_time": "2019-10-27T12:52:07.191104Z"
    }
   },
   "outputs": [
    {
     "name": "stdout",
     "output_type": "stream",
     "text": [
      "排序前的数列：\n",
      " [79 17 44  2 97 33 92  0 46 60]\n",
      "排序后的数列：\n",
      " [ 0  2 17 33 44 46 60 79 92 97]\n",
      "Does our method work? Answer is True\n"
     ]
    }
   ],
   "source": [
    "test_case(BubbleSort,np.random.randint(0,100,10))"
   ]
  },
  {
   "cell_type": "markdown",
   "metadata": {
    "ExecuteTime": {
     "end_time": "2019-10-25T12:40:05.919203Z",
     "start_time": "2019-10-25T12:40:05.917213Z"
    }
   },
   "source": [
    "### 快速排序 Quick Sort"
   ]
  },
  {
   "cell_type": "markdown",
   "metadata": {},
   "source": [
    "> 思想\n",
    "- 从数列中挑选一个元素，称为基准(pivot)\n",
    "- 重新排序数列，所有比基准值小的元素摆放在基准的前面，所有比基准值大的元素摆放在基准的后面，相同的数可以摆放到任意一边。在这个分区退出之后，该基准就处于数列的中间位置。这个称为分区(partition)操作\n",
    "- 递归地把小于基准的子数列和大于基准的子数列进行排序\n",
    "\n",
    "快速排序基于选择划分，是简单选择排序的优化。\n",
    "\n",
    "每次划分将数据宣导基准值的两边，然后递归对于两侧的数据进行划分，类似于二分法。\n",
    "\n",
    "算法的整体性能取决于划分的平均程度，也即基准值的选择，从而衍生出快速排序的很多优化方案，甚至可以划分成多块。\n",
    "\n",
    "基准值如果能把数据分为平均的两块，划分数为O(logn)，每次划分遍历一遍需要O(n)，时间复杂度是O(nlogn)\n",
    "\n",
    "额外空间需要储存基准值，O(logn)次划分需要O(logn)个，空间复杂度O(logn)"
   ]
  },
  {
   "cell_type": "code",
   "execution_count": 10,
   "metadata": {
    "ExecuteTime": {
     "end_time": "2019-10-27T12:52:07.206085Z",
     "start_time": "2019-10-27T12:52:07.201078Z"
    }
   },
   "outputs": [],
   "source": [
    "# 空间复杂度O(nlogn)\n",
    "def QuickSort(arr):\n",
    "    if len(arr) <= 1:\n",
    "        return arr\n",
    "    else:\n",
    "        mid = arr[0]\n",
    "        left = [i for i in arr[1:] if i <= mid]\n",
    "        right = [i for i in arr[1:] if i > mid]\n",
    "        return QuickSort(left) + [mid] + QuickSort(right)"
   ]
  },
  {
   "cell_type": "code",
   "execution_count": 11,
   "metadata": {
    "ExecuteTime": {
     "end_time": "2019-10-27T12:52:07.212048Z",
     "start_time": "2019-10-27T12:52:07.207062Z"
    }
   },
   "outputs": [
    {
     "name": "stdout",
     "output_type": "stream",
     "text": [
      "排序前的数列：\n",
      " [941 309 621 296 328 485 818 809 950 231]\n",
      "排序后的数列：\n",
      " [231 296 309 328 485 621 809 818 941 950]\n",
      "Does our method work? Answer is True\n"
     ]
    }
   ],
   "source": [
    "test_case(QuickSort,arr = list(np.random.randint(0,1000,size = 10)))"
   ]
  },
  {
   "cell_type": "code",
   "execution_count": 12,
   "metadata": {
    "ExecuteTime": {
     "end_time": "2019-10-27T12:52:07.218032Z",
     "start_time": "2019-10-27T12:52:07.213045Z"
    }
   },
   "outputs": [],
   "source": [
    "def QuickSort2(nums,left,right):\n",
    "    def partition(nums,left,right):\n",
    "        # 选取一个基准值，这边默认是第一个元素，有很多种优化方式\n",
    "        pivot = nums[left]\n",
    "        \n",
    "        \"\"\"\n",
    "        对于这个基准值，把小于等于基准的数挪到前方，大于等于基准的数挪到后方。\n",
    "        每个while循环里面，至多只能挪动一对数。\n",
    "        left < right表示终止条件，right指的是第一个小于基准的位置，\n",
    "        left指的是第一个大于等于基准的位置。如果left<right，表示对于这个基准来说，\n",
    "        数列已经被排好了。\n",
    "        \"\"\"\n",
    "        while left < right: \n",
    "            while left < right and nums[right] >= pivot:\n",
    "                right -= 1 # 从右边开始，第一个小于基准的数的位置\n",
    "            nums[left] = nums[right] # 把这个小于基准的数，放在序列的第一位\n",
    "            while left < right and nums[left] < pivot:\n",
    "                left += 1 # 从左边开始，第一个大于等于基准的数的位置\n",
    "            nums[right] = nums[left] # 把这个大于等于基准的数，放在序列中right的位置\n",
    "        nums[left] = pivot # 把基准值放在它应该在的位置 \n",
    "        return left\n",
    "        \n",
    "    # 对于子序列递归\n",
    "    if left < right:\n",
    "        pivotIndex = partition(nums, left, right)\n",
    "        QuickSort2(nums, left, pivotIndex - 1)\n",
    "        QuickSort2(nums, pivotIndex + 1, right)\n",
    "    return nums\n",
    "        "
   ]
  },
  {
   "cell_type": "code",
   "execution_count": 13,
   "metadata": {
    "ExecuteTime": {
     "end_time": "2019-10-27T12:52:07.224045Z",
     "start_time": "2019-10-27T12:52:07.219030Z"
    }
   },
   "outputs": [
    {
     "name": "stdout",
     "output_type": "stream",
     "text": [
      "排序前的数列：\n",
      " [896 491 279 271 363 539 203 106 186 219]\n",
      "排序后的数列：\n",
      " [106 186 203 219 271 279 363 491 539 896]\n",
      "Does our method work? Answer is True\n"
     ]
    }
   ],
   "source": [
    "test_case(QuickSort2,arr = list(np.random.randint(0,1000,size = 10)),left = 0,right = 9)"
   ]
  },
  {
   "cell_type": "code",
   "execution_count": 14,
   "metadata": {
    "ExecuteTime": {
     "end_time": "2019-10-27T12:52:07.229032Z",
     "start_time": "2019-10-27T12:52:07.225041Z"
    }
   },
   "outputs": [
    {
     "name": "stdout",
     "output_type": "stream",
     "text": [
      "{'kwargs_1': 'Shark', 'kwargs_2': 4.5, 'kwargs_3': True}\n"
     ]
    }
   ],
   "source": [
    "def print_kwargs(**kwargs):\n",
    "        print(kwargs)\n",
    "\n",
    "print_kwargs(kwargs_1=\"Shark\", kwargs_2=4.5, kwargs_3=True)"
   ]
  },
  {
   "cell_type": "code",
   "execution_count": 15,
   "metadata": {
    "ExecuteTime": {
     "end_time": "2019-10-27T12:52:07.235984Z",
     "start_time": "2019-10-27T12:52:07.230028Z"
    }
   },
   "outputs": [
    {
     "name": "stdout",
     "output_type": "stream",
     "text": [
      "1\n"
     ]
    }
   ],
   "source": [
    "def print_args(*args):\n",
    "    print(args[0])\n",
    "\n",
    "print_args(1,2,3)"
   ]
  },
  {
   "cell_type": "markdown",
   "metadata": {},
   "source": [
    "### 插入排序"
   ]
  },
  {
   "cell_type": "markdown",
   "metadata": {},
   "source": [
    ">思想\n",
    "\n",
    "- 从第一个元素开始，认为该元素已经被排序好了\n",
    "- 取出下一个元素，在已经排序好的元素序列中从后往前扫描\n",
    "- 如果排序好的元素大于新元素，那么再继续向前比较\n",
    "- 直到找到已排序的序列中，小于等于该新元素的元素位置\n",
    "- 将新元素插入该位置后\n",
    "- 重复步骤2-5\n",
    "\n",
    "简单插入排操作n-1轮，每一轮将一个未排序的数字插入排好序的序列中。\n",
    "\n",
    "插入的操作包括：比较插入的位置，数据移位腾出合适的空位\n",
    "\n",
    "每一轮操作O(n)次，共O(n)轮，所以时间复杂度O(n^2)\n",
    "\n",
    "空间开销出在数据移动的过渡空间，O(1)\n",
    "\n"
   ]
  },
  {
   "cell_type": "code",
   "execution_count": 16,
   "metadata": {
    "ExecuteTime": {
     "end_time": "2019-10-27T12:52:07.239999Z",
     "start_time": "2019-10-27T12:52:07.235984Z"
    }
   },
   "outputs": [],
   "source": [
    "def insertionSort(nums):\n",
    "    for i in range(len(nums) - 1):  # 遍历 len(nums)-1 次\n",
    "        curNum, preIndex = nums[i+1], i  # curNum 保存当前待插入的数\n",
    "        while preIndex >= 0 and curNum < nums[preIndex]: # 将比 curNum 大的元素向后移动\n",
    "            nums[preIndex + 1] = nums[preIndex]\n",
    "            preIndex -= 1\n",
    "        nums[preIndex + 1] = curNum  # 待插入的数的正确位置   \n",
    "    return nums"
   ]
  },
  {
   "cell_type": "code",
   "execution_count": 17,
   "metadata": {
    "ExecuteTime": {
     "end_time": "2019-10-27T12:52:07.244975Z",
     "start_time": "2019-10-27T12:52:07.239999Z"
    }
   },
   "outputs": [],
   "source": [
    "def InsertSort(lst):\n",
    "    n=len(lst)\n",
    "    if n<=1:\n",
    "        return lst\n",
    "    for i in range(1,n):\n",
    "        j=i\n",
    "        target=lst[i]            #每次循环的一个待插入的数\n",
    "        while j>0 and target<lst[j-1]:       #比较、后移，给target腾位置\n",
    "            lst[j]=lst[j-1]\n",
    "            j=j-1\n",
    "        lst[j]=target            #把target插到空位\n"
   ]
  },
  {
   "cell_type": "code",
   "execution_count": 18,
   "metadata": {
    "ExecuteTime": {
     "end_time": "2019-10-27T12:52:07.252938Z",
     "start_time": "2019-10-27T12:52:07.245958Z"
    }
   },
   "outputs": [
    {
     "name": "stdout",
     "output_type": "stream",
     "text": [
      "[4, 77, 20, 90, 36, 12, 7, 50, 48]\n",
      "[4, 20, 77, 90, 36, 12, 7, 50, 48]\n",
      "[4, 20, 77, 90, 36, 12, 7, 50, 48]\n",
      "[4, 20, 36, 77, 90, 12, 7, 50, 48]\n",
      "[4, 12, 20, 36, 77, 90, 7, 50, 48]\n",
      "[4, 7, 12, 20, 36, 77, 90, 50, 48]\n",
      "[4, 7, 12, 20, 36, 50, 77, 90, 48]\n",
      "[4, 7, 12, 20, 36, 48, 50, 77, 90]\n"
     ]
    }
   ],
   "source": [
    "nums = [77,4,20,90,36,12,7,50,48]\n",
    "for i in range(1,len(nums)):\n",
    "    current = nums[i]\n",
    "    j = i\n",
    "    while(j>0 and current<nums[j-1]):\n",
    "        nums[j] = nums[j-1]\n",
    "        j = j -1\n",
    "    nums[j] = current\n",
    "    print(nums)"
   ]
  },
  {
   "cell_type": "code",
   "execution_count": 19,
   "metadata": {
    "ExecuteTime": {
     "end_time": "2019-10-27T12:52:07.257950Z",
     "start_time": "2019-10-27T12:52:07.253936Z"
    }
   },
   "outputs": [],
   "source": [
    "def InsertSort(arr):\n",
    "    n = len(arr)\n",
    "    for i in range(1,n):\n",
    "        # 给第i个数字进行排序\n",
    "        num_now = arr[i]\n",
    "        for j in range(i-1,-1,-1):\n",
    "            if num_now >= arr[j]:\n",
    "                pos = j+1\n",
    "                break\n",
    "            else:\n",
    "                pos = 0\n",
    "        arr[(pos + 1):(i + 1)] = arr[(pos):i]\n",
    "        arr[pos] = num_now\n",
    "    return arr\n",
    "            \n",
    "            "
   ]
  },
  {
   "cell_type": "code",
   "execution_count": 20,
   "metadata": {
    "ExecuteTime": {
     "end_time": "2019-10-27T12:52:07.263934Z",
     "start_time": "2019-10-27T12:52:07.260942Z"
    }
   },
   "outputs": [
    {
     "data": {
      "text/plain": [
       "[-1, 0, 0, 0, 1, 1, 2]"
      ]
     },
     "execution_count": 20,
     "metadata": {},
     "output_type": "execute_result"
    }
   ],
   "source": [
    "InsertSort([0,0,0,1,1,2,-1])"
   ]
  },
  {
   "cell_type": "markdown",
   "metadata": {},
   "source": [
    "what will happen? if we excute:\n",
    "\n",
    ">```\n",
    "num = [1,2,3,4]\n",
    "num[0:2],num[2:4] = num[2:4],num[0:2]\n",
    "```"
   ]
  },
  {
   "cell_type": "markdown",
   "metadata": {},
   "source": [
    "### 希尔排序\n",
    "> 思想\n",
    "- 选择一个递减到1的增量序列，$\\mathrm T = t_1 > \\cdots >t_k > \\cdots >t_K$,比如5,3,1\n",
    "- 对于每个$t_k$，对原序列进行K次排序\n",
    "- 每次排序中，根据$t_k$的值，将序列分割成长度为m的子序列，每个子序列进行插入排序，只改变子序列的元素相对位置。当增量因子为1的时候，相当于对所有元素进行插入排序\n",
    "\n",
    "希尔排序是插入排序的高效实现，因为能够减少插入排序的移动次数。\n",
    "\n",
    "简单插入排序每次插入都要移动大量数据，如果能一步到位，移动效率会高一些。\n",
    "\n",
    "如果序列是基本有序的，插入排序不必移动多次，效率会比较高。\n",
    "\n",
    "希尔排序将序列按照不同的间隔划分成子序列，在子序列中进行插入排序。相当于先远距离移动，使得序列基本有序。然后逐步减小间隔，最后间隔为1的时候进行一次插入排序。\n",
    "\n",
    "希尔排序对序列划分O(n)次，每次插入排序O(logn)，时间复杂度O(nlogn)\n",
    "\n",
    "额外的空间开销是由于插入过程中，数据移动需要一个暂存，空间复杂度O(1)\n",
    "\n"
   ]
  },
  {
   "cell_type": "code",
   "execution_count": 21,
   "metadata": {
    "ExecuteTime": {
     "end_time": "2019-10-27T12:52:07.268921Z",
     "start_time": "2019-10-27T12:52:07.264907Z"
    }
   },
   "outputs": [],
   "source": [
    "\n",
    "def ShellSort(lst):\n",
    "    def shellinsert(arr,d):\n",
    "        n=len(arr)\n",
    "        for i in range(d,n):\n",
    "            j=i-d\n",
    "            temp=arr[i]             #记录要出入的数\n",
    "            while(j>=0 and arr[j]>temp):    #从后向前，找打比其小的数的位置\n",
    "                arr[j+d]=arr[j]                 #向后挪动\n",
    "                j-=d\n",
    "            if j!=i-d:\n",
    "                arr[j+d]=temp\n",
    "    n=len(lst)\n",
    "    if n<=1:\n",
    "        return lst\n",
    "    d=n//2\n",
    "    while d>=1:\n",
    "        shellinsert(lst,d)\n",
    "        d=d//2\n",
    "    return lst"
   ]
  },
  {
   "cell_type": "code",
   "execution_count": 22,
   "metadata": {
    "ExecuteTime": {
     "end_time": "2019-10-27T12:52:07.274880Z",
     "start_time": "2019-10-27T12:52:07.269894Z"
    }
   },
   "outputs": [],
   "source": [
    "def shellSort(nums):\n",
    "    lens = len(nums)\n",
    "    gap = 1  \n",
    "    while gap < lens // 3:\n",
    "        gap = gap * 3 + 1  # 动态定义间隔序列\n",
    "    while gap > 0:\n",
    "        for i in range(gap, lens):\n",
    "            curNum, preIndex = nums[i], i - gap  # curNum 保存当前待插入的数\n",
    "            while preIndex >= 0 and curNum < nums[preIndex]:\n",
    "                nums[preIndex + gap] = nums[preIndex] # 将比 curNum 大的元素向后移动\n",
    "                preIndex -= gap\n",
    "            nums[preIndex + gap] = curNum  # 待插入的数的正确位置\n",
    "        gap //= 3  # 下一个动态间隔\n",
    "    return nums"
   ]
  },
  {
   "cell_type": "code",
   "execution_count": 23,
   "metadata": {
    "ExecuteTime": {
     "end_time": "2019-10-27T12:52:07.280864Z",
     "start_time": "2019-10-27T12:52:07.275878Z"
    }
   },
   "outputs": [],
   "source": [
    "def ShellSort(arr):\n",
    "    def ShellInset(arr,d):\n",
    "        \"\"\"\n",
    "        arr: list to be sorted\n",
    "        d: T_k,the distance of each sub-list\n",
    "        \"\"\"\n",
    "        n = len(arr)\n",
    "        for i in range(n):\n",
    "            now_num = arr[i]\n",
    "            for j in range(i-d, -1, -d):\n",
    "                if arr[j] > now_num:\n",
    "                    arr[j+d] = arr[j]\n",
    "                    arr[j] = now_num\n",
    "                else:\n",
    "                    break\n",
    "        return arr\n",
    "    n = len(arr)\n",
    "    d = n // 2\n",
    "    \n",
    "    while d >= 1:\n",
    "        arr = ShellInset(arr,d)\n",
    "        d //= 2\n",
    "    return arr\n",
    "        "
   ]
  },
  {
   "cell_type": "code",
   "execution_count": 24,
   "metadata": {
    "ExecuteTime": {
     "end_time": "2019-10-27T12:52:07.286848Z",
     "start_time": "2019-10-27T12:52:07.281861Z"
    },
    "scrolled": true
   },
   "outputs": [
    {
     "name": "stdout",
     "output_type": "stream",
     "text": [
      "排序前的数列：\n",
      " [46 14 31 45 89 11 22 46 13 66]\n",
      "排序后的数列：\n",
      " [11 13 14 22 31 45 46 46 66 89]\n",
      "Does our method work? Answer is True\n"
     ]
    }
   ],
   "source": [
    "test_case(method = ShellSort, arr = np.random.randint(0,100,10))"
   ]
  },
  {
   "cell_type": "markdown",
   "metadata": {},
   "source": [
    "### 简单选择排序\n",
    "> 思想\n",
    "- 初始状态，数列完全无序\n",
    "- 从无序的数列中，找一个最小值放在前面的有序区域末尾\n",
    "- 重复n-1次\n",
    "\n",
    "简单选择排序对数据操作n-1轮，每一轮在未排序的数据中找到一个最小值\n",
    "\n",
    "每轮操作O(n)次，共O(n)轮，所以时间复杂度O(n^2)\n",
    "\n",
    "额外空间开销出现在交换数据时候，西药一个过渡空间，空间复杂度O(1)\n",
    "\n",
    "选择排序每一轮选一个最小值出来，加入排好的序列末尾。在未排序的数据之间比大小。简单插入排序，每一轮找到新数据在排好序的数据的位置，将其插入。把新数据放在在已排序的序列中比大小。\n",
    "\n",
    "冒泡排序中，每次发现相邻两个数据大小关系不对时，就进行数据交换，这样会带来很多数据交换的代价，因此可以减少交换次数，每次选择最大值，直接跟最后位置交换，从而减少数据交换。时间复杂度为O(n^2)。"
   ]
  },
  {
   "cell_type": "code",
   "execution_count": 25,
   "metadata": {
    "ExecuteTime": {
     "end_time": "2019-10-27T12:52:07.292856Z",
     "start_time": "2019-10-27T12:52:07.287868Z"
    },
    "scrolled": true
   },
   "outputs": [
    {
     "name": "stdout",
     "output_type": "stream",
     "text": [
      "[77, 4, 20, 48, 36, 12, 7, 50, 90]\n",
      "[50, 4, 20, 48, 36, 12, 7, 77, 90]\n",
      "[7, 4, 20, 48, 36, 12, 50, 77, 90]\n",
      "[7, 4, 20, 12, 36, 48, 50, 77, 90]\n",
      "[7, 4, 20, 12, 36, 48, 50, 77, 90]\n",
      "[7, 4, 12, 20, 36, 48, 50, 77, 90]\n",
      "[7, 4, 12, 20, 36, 48, 50, 77, 90]\n",
      "[4, 7, 12, 20, 36, 48, 50, 77, 90]\n"
     ]
    }
   ],
   "source": [
    "nums = [77,4,20,90,36,12,7,50,48]\n",
    "for i in range(len(nums)-1):\n",
    "    k = 0\n",
    "    for j in range(1,len(nums)-i):\n",
    "        if(nums[k] < nums[j]):\n",
    "            k = j\n",
    "    nums[k],nums[j] = nums[j],nums[k]\n",
    "    print(nums)"
   ]
  },
  {
   "cell_type": "code",
   "execution_count": 26,
   "metadata": {
    "ExecuteTime": {
     "end_time": "2019-10-27T12:52:07.298841Z",
     "start_time": "2019-10-27T12:52:07.293854Z"
    }
   },
   "outputs": [],
   "source": [
    "def SelectSort(arr):\n",
    "    n = len(arr)\n",
    "    for i in range(n):\n",
    "        index_min = i\n",
    "        for j in range(i+1,n):\n",
    "            if arr[j] < arr[index_min]:\n",
    "                index_min = j\n",
    "        current_min = arr[index_min]\n",
    "        arr[index_min] = arr[i]\n",
    "        arr[i] = current_min\n",
    "    return arr"
   ]
  },
  {
   "cell_type": "code",
   "execution_count": 27,
   "metadata": {
    "ExecuteTime": {
     "end_time": "2019-10-27T12:52:08.654548Z",
     "start_time": "2019-10-27T12:52:08.650536Z"
    }
   },
   "outputs": [
    {
     "name": "stdout",
     "output_type": "stream",
     "text": [
      "排序前的数列：\n",
      " [67 76  8 80  3 48 52 51 12 98]\n",
      "排序后的数列：\n",
      " [ 3  8 12 48 51 52 67 76 80 98]\n",
      "Does our method work? Answer is True\n"
     ]
    }
   ],
   "source": [
    "test_case(SelectSort,np.random.randint(0,100,10))"
   ]
  },
  {
   "cell_type": "markdown",
   "metadata": {},
   "source": [
    "### 堆排序 Heap Sort\n",
    "堆排序是指利用堆这种数据结构所设计的一种排序算法。堆积是一个近似完全二叉树的结构，并同时满足堆积的性质：即子节点的键值或索引总是小于（或者大于）它的父节点。\n",
    "\n",
    "关于堆这种数据结构，可以参见[Abdul Bari - Heap](https://www.youtube.com/watch?v=HqPJF2L5h9U)以及[Heap Sort](https://www.youtube.com/watch?v=k72DtCnY4MU)\n",
    "> 思路\n",
    "- 首先把原始序列构建成大顶堆\n",
    "- 然后把堆顶的最大值与堆最后一个元素交换，从而得到一个大顶堆 和 最后一个排好序的最大值\n",
    "- 因为交换后，堆不一定是大顶堆，所以需要排序。排序之后，把堆顶的元素与当前堆最后一个元素交换，得到一个堆还有第二大的数字\n",
    "- 重复2-3步，直到堆消失\n",
    "\n",
    "对于堆中一个元素的排序，时间复杂度是O(logn)，建堆的时候，时间复杂度是O(nlogn)。对于后续最大堆堆顶元素移出，每次都需要排序O(logn)，n个元素时间复杂度是O(nlogn)。综合而言，时间复杂度是O(nlogn)。\n",
    "\n",
    "空间复杂度是O(1)，用于堆顶和堆末尾元素交换的时候，需要一个额外的过渡空间。\n"
   ]
  },
  {
   "cell_type": "code",
   "execution_count": 28,
   "metadata": {
    "ExecuteTime": {
     "end_time": "2019-10-27T12:52:14.255546Z",
     "start_time": "2019-10-27T12:52:14.249533Z"
    }
   },
   "outputs": [],
   "source": [
    "def  HeapSort(lst):\n",
    "    def heapadjust(arr,start,end):  #将以start为根节点的堆调整为大顶堆\n",
    "        temp=arr[start]\n",
    "        son=2*start+1\n",
    "        while son<=end:\n",
    "            if son<end and arr[son]<arr[son+1]:  #找出左右孩子节点较大的\n",
    "                son+=1\n",
    "            if temp>=arr[son]:       #判断是否为大顶堆\n",
    "                break\n",
    "            arr[start]=arr[son]     #子节点上移\n",
    "            start=son                     #继续向下比较\n",
    "            son=2*son+1\n",
    "        arr[start]=temp             #将原堆顶插入正确位置\n",
    "#######\n",
    "    n=len(lst)\n",
    "    if n<=1:\n",
    "        return lst\n",
    "    #建立大顶堆\n",
    "    root=n//2-1    #最后一个非叶节点（完全二叉树中）\n",
    "    while(root>=0):\n",
    "        heapadjust(ls,root,n-1)\n",
    "        root-=1\n",
    "    #掐掉堆顶后调整堆\n",
    "    i=n-1\n",
    "    while(i>=0):\n",
    "        (lst[0],lst[i])=(lst[i],lst[0])  #将大顶堆堆顶数放到最后\n",
    "        heapadjust(lst,0,i-1)    #调整剩余数组成的堆\n",
    "        i-=1\n",
    "    return lst"
   ]
  },
  {
   "cell_type": "code",
   "execution_count": 115,
   "metadata": {
    "ExecuteTime": {
     "end_time": "2019-10-27T13:27:19.598833Z",
     "start_time": "2019-10-27T13:27:19.593824Z"
    }
   },
   "outputs": [],
   "source": [
    "def HeapSort(arr):\n",
    "    # build heap\n",
    "    def heapbuilt(arr, size):\n",
    "        for i in range(len(arr)//2)[::-1]: # 从倒数第一个非叶子结点开始建立大根堆\n",
    "            adjust_node(arr, i, size)    \n",
    "            \n",
    "    # adjust the node in heap\n",
    "    def adjust_node(arr,i,size):\n",
    "        # 非叶子结点的左右两个孩子\n",
    "        lchild_index = 2 * i + 1\n",
    "        rchild_index = 2 * i + 2\n",
    "        # 在当前结点、左孩子、右孩子中找到最大元素的索引\n",
    "        largest = i \n",
    "        if lchild_index < size and arr[lchild_index] > arr[largest]: \n",
    "            largest = lchild_index \n",
    "        if rchild_index < size and arr[rchild_index] > arr[largest]: \n",
    "            largest = rchild_index\n",
    "        # 如果最大元素的索引不是当前结点，把大的结点交换到上面，继续调整堆\n",
    "        if largest != i: \n",
    "            arr[largest], arr[i] = arr[i], arr[largest] \n",
    "            # 第 2 个参数传入 largest 的索引是交换前大数字对应的索引\n",
    "            # 交换后该索引对应的是小数字，应该把该小数字向下调整\n",
    "            adjust_node(arr, largest, size)\n",
    "    \n",
    "    size = len(arr)\n",
    "    heapbuilt(arr,size)\n",
    "    for i in range(len(arr))[::-1]:\n",
    "        arr[0],arr[i] = arr[i],arr[0]\n",
    "        adjust_node(arr,0,i)\n",
    "    return(arr)"
   ]
  },
  {
   "cell_type": "code",
   "execution_count": 154,
   "metadata": {
    "ExecuteTime": {
     "end_time": "2019-10-27T13:27:24.441641Z",
     "start_time": "2019-10-27T13:27:24.437652Z"
    },
    "scrolled": true
   },
   "outputs": [
    {
     "name": "stdout",
     "output_type": "stream",
     "text": [
      "排序前的数列：\n",
      " [11  8 89  2 64  6 11 25 12 80]\n",
      "排序后的数列：\n",
      " [ 2  6  8 11 11 12 25 64 80 89]\n",
      "Does our method work? Answer is True\n"
     ]
    }
   ],
   "source": [
    "test_case(HeapSort,arr = np.random.randint(0,100,10))"
   ]
  },
  {
   "cell_type": "markdown",
   "metadata": {
    "collapsed": true
   },
   "source": [
    "### 二路归并排序\n",
    "\n",
    "归并排序，采用了分治法(Divide and Conquerr)建立在归并操作的基础上。将已有的子序列合并，得到完全有序的序列。先使得子序列有序，然后再把子序列合并成有序的序列。如果子序列的个数设定为2，那么称为2路归并排序。\n",
    "> 思想\n",
    "- 把长度为n的序列分成两个长度为n/2的子序列\n",
    "- 对这两个字序列再使用归并排序，直到不能再分\n",
    "- 把两个排序好的子序列合并成一个最终的序列"
   ]
  },
  {
   "cell_type": "code",
   "execution_count": 167,
   "metadata": {
    "ExecuteTime": {
     "end_time": "2019-10-27T14:24:14.983638Z",
     "start_time": "2019-10-27T14:24:14.978652Z"
    }
   },
   "outputs": [],
   "source": [
    "def mergeSort(nums):\n",
    "    # 归并过程\n",
    "    def merge(left, right):\n",
    "        print(left,right)\n",
    "        result = []  # 保存归并后的结果\n",
    "        i = j = 0\n",
    "        while i < len(left) and j < len(right):\n",
    "            if left[i] <= right[j]:\n",
    "                result.append(left[i])\n",
    "                i += 1\n",
    "            else:\n",
    "                result.append(right[j])\n",
    "                j += 1\n",
    "        result = result + left[i:] + right[j:] # 剩余的元素直接添加到末尾\n",
    "        return result\n",
    "    # 递归过程\n",
    "    if len(nums) <= 1:\n",
    "        return nums\n",
    "    mid = len(nums) // 2\n",
    "    left = mergeSort(nums[:mid])\n",
    "    right = mergeSort(nums[mid:])\n",
    "    \n",
    "    return merge(left, right)"
   ]
  },
  {
   "cell_type": "code",
   "execution_count": 168,
   "metadata": {
    "ExecuteTime": {
     "end_time": "2019-10-27T14:24:15.605335Z",
     "start_time": "2019-10-27T14:24:15.601346Z"
    }
   },
   "outputs": [
    {
     "name": "stdout",
     "output_type": "stream",
     "text": [
      "[3] [2]\n",
      "[-1] [1]\n",
      "[45] [-1, 1]\n",
      "[2, 3] [-1, 1, 45]\n"
     ]
    },
    {
     "data": {
      "text/plain": [
       "[-1, 1, 2, 3, 45]"
      ]
     },
     "execution_count": 168,
     "metadata": {},
     "output_type": "execute_result"
    }
   ],
   "source": [
    "mergeSort([3,2,45,-1,1])"
   ]
  },
  {
   "cell_type": "code",
   "execution_count": null,
   "metadata": {},
   "outputs": [],
   "source": []
  },
  {
   "cell_type": "code",
   "execution_count": null,
   "metadata": {},
   "outputs": [],
   "source": []
  },
  {
   "cell_type": "code",
   "execution_count": null,
   "metadata": {},
   "outputs": [],
   "source": []
  },
  {
   "cell_type": "code",
   "execution_count": null,
   "metadata": {},
   "outputs": [],
   "source": []
  },
  {
   "cell_type": "code",
   "execution_count": null,
   "metadata": {},
   "outputs": [],
   "source": []
  },
  {
   "cell_type": "code",
   "execution_count": null,
   "metadata": {},
   "outputs": [],
   "source": []
  },
  {
   "cell_type": "code",
   "execution_count": null,
   "metadata": {},
   "outputs": [],
   "source": []
  }
 ],
 "metadata": {
  "kernelspec": {
   "display_name": "Python 3",
   "language": "python",
   "name": "python3"
  },
  "language_info": {
   "codemirror_mode": {
    "name": "ipython",
    "version": 3
   },
   "file_extension": ".py",
   "mimetype": "text/x-python",
   "name": "python",
   "nbconvert_exporter": "python",
   "pygments_lexer": "ipython3",
   "version": "3.7.1"
  },
  "toc": {
   "base_numbering": 1,
   "nav_menu": {},
   "number_sections": true,
   "sideBar": true,
   "skip_h1_title": false,
   "title_cell": "Table of Contents",
   "title_sidebar": "Contents",
   "toc_cell": false,
   "toc_position": {},
   "toc_section_display": true,
   "toc_window_display": true
  },
  "varInspector": {
   "cols": {
    "lenName": 16,
    "lenType": 16,
    "lenVar": 40
   },
   "kernels_config": {
    "python": {
     "delete_cmd_postfix": "",
     "delete_cmd_prefix": "del ",
     "library": "var_list.py",
     "varRefreshCmd": "print(var_dic_list())"
    },
    "r": {
     "delete_cmd_postfix": ") ",
     "delete_cmd_prefix": "rm(",
     "library": "var_list.r",
     "varRefreshCmd": "cat(var_dic_list()) "
    }
   },
   "types_to_exclude": [
    "module",
    "function",
    "builtin_function_or_method",
    "instance",
    "_Feature"
   ],
   "window_display": false
  }
 },
 "nbformat": 4,
 "nbformat_minor": 2
}
