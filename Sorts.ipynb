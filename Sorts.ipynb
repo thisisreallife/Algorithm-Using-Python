{
 "cells": [
  {
   "cell_type": "markdown",
   "metadata": {},
   "source": [
    "# 排序"
   ]
  },
  {
   "cell_type": "markdown",
   "metadata": {},
   "source": [
    "素材：\n",
    "1. [史上最简单十大排序算法（Python实现）](https://blog.csdn.net/weixin_41571493/article/details/81875088)\n",
    "2. [Python实现十大经典排序算法](https://www.jianshu.com/p/bbbab7fa77a2)\n",
    "3. [Python实现十三大查找和排序算法](https://blog.csdn.net/Asher117/article/details/89500637)\n",
    "4. [All Algorithms implemented in Python](https://github.com/TheAlgorithms/Python)"
   ]
  },
  {
   "cell_type": "markdown",
   "metadata": {
    "ExecuteTime": {
     "end_time": "2019-10-25T11:36:44.287793Z",
     "start_time": "2019-10-25T11:36:44.285793Z"
    }
   },
   "source": [
    "## 排序的分类 与 相关概念"
   ]
  },
  {
   "cell_type": "markdown",
   "metadata": {},
   "source": [
    "**是否使用额外空间**：\n",
    "- 内部排序：只使用内存\n",
    "- 外部排序：内存和外存同时使用\n",
    "\n",
    "**时间复杂度**：\n",
    "- 非线性时间比较类排序：通过比较来决定元素间的相对次序，由于其时间复杂度不能突破O(nlogn)，因此称为非线性时间比较类排序、\n",
    "- 线性时间非比较类排序： 不通过比较来决定元素间的相对次序，它可以突破基于比较排序的时间下界，以线性时间运行，因此称为线性时间非比较类排序。"
   ]
  },
  {
   "cell_type": "markdown",
   "metadata": {
    "ExecuteTime": {
     "end_time": "2019-10-25T11:48:00.378232Z",
     "start_time": "2019-10-25T11:48:00.359282Z"
    }
   },
   "source": [
    "**相关概念：**\n",
    "- 稳定：如果a=b，排序不改变他们原始的次序\n",
    "- 时间复杂度：对于排序数据的总的操作次数与n的关系\n",
    "- 空间复杂度：算法执行时所需要的储存空间大小与n的关系"
   ]
  },
  {
   "cell_type": "markdown",
   "metadata": {},
   "source": [
    "### 冒泡排序 Bubble Sort"
   ]
  },
  {
   "cell_type": "markdown",
   "metadata": {},
   "source": [
    "> 思想：\n",
    "1. 比较相邻的元素，如果第一个比第二个更大，那么交换他们两\n",
    "2. 对每一对相邻的元素做同样的操作，从最开始的前两个数，到最后两个数。这样排在最后的数会是整个数列中最大的\n",
    "3. 对数列重复以上操作，排除最后一个已经被排好序的数字。\n",
    "4. 重复1-3，直到排序完成\n",
    "\n",
    "冒泡排序对n个数据操作n-1轮，每一轮能找到一个最大值。\n",
    "\n",
    "操作只对相邻两个数进行比较与交换，每一轮能把最值交换到数据的列尾，就像冒泡一样。\n",
    "\n",
    "每一轮操作O(n)次，共O(n)轮，所以时间复杂度是O(n^2)\n",
    "\n",
    "额外空间开销出现在交换数据的时候，需要一个过渡空间，空间复杂度是O(1)"
   ]
  },
  {
   "cell_type": "code",
   "execution_count": 7,
   "metadata": {
    "ExecuteTime": {
     "end_time": "2019-10-25T13:04:19.084968Z",
     "start_time": "2019-10-25T13:04:19.080982Z"
    }
   },
   "outputs": [],
   "source": [
    "import numpy as np\n",
    "def BubbleSort(arr):\n",
    "    n = len(arr)\n",
    "    if n <= 1:\n",
    "        return arr\n",
    "    else:\n",
    "        for i in range(n):\n",
    "            for j in range(n-i-1):\n",
    "                if arr[j] > arr[j+1]:\n",
    "                    arr[j+1],arr[j] = arr[j],arr[j+1]\n",
    "        return arr"
   ]
  },
  {
   "cell_type": "code",
   "execution_count": 27,
   "metadata": {
    "ExecuteTime": {
     "end_time": "2019-10-25T13:09:12.343343Z",
     "start_time": "2019-10-25T13:09:12.341324Z"
    }
   },
   "outputs": [],
   "source": [
    "def test_case(method,arr):\n",
    "    print('排序前的数列：\\n',np.array(arr))\n",
    "    print('排序后的数列：\\n',np.array(method(arr)))\n",
    "    "
   ]
  },
  {
   "cell_type": "code",
   "execution_count": 28,
   "metadata": {
    "ExecuteTime": {
     "end_time": "2019-10-25T13:09:13.407186Z",
     "start_time": "2019-10-25T13:09:13.403219Z"
    }
   },
   "outputs": [
    {
     "name": "stdout",
     "output_type": "stream",
     "text": [
      "排序前的数列：\n",
      " [ 1  3  4 -1]\n",
      "排序后的数列：\n",
      " [-1  1  3  4]\n"
     ]
    }
   ],
   "source": [
    "test_case(BubbleSort,[1, 3, 4, -1])"
   ]
  },
  {
   "cell_type": "markdown",
   "metadata": {
    "ExecuteTime": {
     "end_time": "2019-10-25T12:40:05.919203Z",
     "start_time": "2019-10-25T12:40:05.917213Z"
    }
   },
   "source": [
    "### 快速排序 Quick Sort"
   ]
  },
  {
   "cell_type": "markdown",
   "metadata": {},
   "source": [
    "> 思想\n",
    "- 从数列中挑选一个元素，称为基准(pivot)\n",
    "- 重新排序数列，所有比基准值小的元素摆放在基准的前面，所有比基准值大的元素摆放在基准的后面，相同的数可以摆放到任意一边。在这个分区退出之后，该基准就处于数列的中间位置。这个称为分区(partition)操作\n",
    "- 递归地把小于基准的子数列和大于基准的子数列进行排序\n",
    "\n",
    "快速排序基于选择划分，是简单选择排序的优化。\n",
    "\n",
    "每次划分将数据宣导基准值的两边，然后递归对于两侧的数据进行划分，类似于二分法。\n",
    "\n",
    "算法的整体性能取决于划分的平均程度，也即基准值的选择，从而衍生出快速排序的很多优化方案，甚至可以划分成多块。\n",
    "\n",
    "基准值如果能把数据分为平均的两块，划分数为O(logn)，每次划分遍历一遍需要O(n)，时间复杂度是O(nlogn)\n",
    "\n",
    "额外空间需要储存基准值，O(logn)次划分需要O(logn)个，空间复杂度O(logn)"
   ]
  },
  {
   "cell_type": "code",
   "execution_count": 38,
   "metadata": {
    "ExecuteTime": {
     "end_time": "2019-10-25T13:21:51.042465Z",
     "start_time": "2019-10-25T13:21:51.037473Z"
    }
   },
   "outputs": [],
   "source": [
    "# 空间复杂度O(nlogn)\n",
    "def QuickSort(arr):\n",
    "    if len(arr) <= 1:\n",
    "        return arr\n",
    "    else:\n",
    "        mid = arr[0]\n",
    "        left = [i for i in arr[1:] if i <= mid]\n",
    "        right = [i for i in arr[1:] if i > mid]\n",
    "        return QuickSort(left) + [mid] + QuickSort(right)"
   ]
  },
  {
   "cell_type": "code",
   "execution_count": 39,
   "metadata": {
    "ExecuteTime": {
     "end_time": "2019-10-25T13:21:51.785301Z",
     "start_time": "2019-10-25T13:21:51.780314Z"
    }
   },
   "outputs": [
    {
     "name": "stdout",
     "output_type": "stream",
     "text": [
      "排序前的数列：\n",
      " [337  72 935 772 771 424 104 445 556 304]\n",
      "排序后的数列：\n",
      " [ 72 104 304 337 424 445 556 771 772 935]\n"
     ]
    }
   ],
   "source": [
    "test_case(QuickSort,arr = list(np.random.randint(0,1000,size = 10)))"
   ]
  },
  {
   "cell_type": "code",
   "execution_count": 58,
   "metadata": {
    "ExecuteTime": {
     "end_time": "2019-10-25T13:25:20.279752Z",
     "start_time": "2019-10-25T13:25:20.274759Z"
    }
   },
   "outputs": [],
   "source": [
    "# 空间复杂度O(logn)\n",
    "'''\n",
    "@param nums: 待排序数组\n",
    "@param left: 数组上界\n",
    "@param right: 数组下界\n",
    "'''\n",
    "def QuickSort2(nums, left, right):  # 这种写法的平均空间复杂度为 O(logn) \n",
    "    # 分区操作\n",
    "    def partition(nums, left, right):\n",
    "        print(nums)\n",
    "        print('\\r\\n')\n",
    "        pivot = nums[left]  # 基准值\n",
    "        while left < right:\n",
    "            while left < right and nums[right] >= pivot:\n",
    "                right -= 1\n",
    "            nums[left] = nums[right]  # 比基准小的交换到前面\n",
    "            print(nums)\n",
    "            while left < right and nums[left] <= pivot:\n",
    "                left += 1\n",
    "            nums[right] = nums[left]  # 比基准大交换到后面\n",
    "            print(nums)\n",
    "        nums[left] = pivot # 基准值的正确位置，也可以为 nums[right] = pivot\n",
    "        return left  # 返回基准值的索引，也可以为 return right\n",
    "    # 递归操作\n",
    "    if left < right:\n",
    "        pivotIndex = partition(nums, left, right)\n",
    "        quickSort2(nums, left, pivotIndex - 1)  # 左序列\n",
    "        quickSort2(nums, pivotIndex + 1, right) # 右序列\n",
    "    return nums"
   ]
  },
  {
   "cell_type": "code",
   "execution_count": 59,
   "metadata": {
    "ExecuteTime": {
     "end_time": "2019-10-25T13:25:22.362854Z",
     "start_time": "2019-10-25T13:25:22.356870Z"
    }
   },
   "outputs": [
    {
     "name": "stdout",
     "output_type": "stream",
     "text": [
      "[12 31 36 31 70 84 21 88 12 81]\n",
      "\r\n",
      "\n",
      "[12 31 36 31 70 84 21 88 12 81]\n",
      "[12 31 36 31 70 84 21 88 12 81]\n",
      "[12 12 36 31 70 84 21 88 12 81]\n",
      "[12 12 36 31 70 84 21 88 36 81]\n",
      "[12 12 21 31 70 84 21 88 36 81]\n",
      "[12 12 21 31 70 84 70 88 36 81]\n",
      "[12 12 21 31 70 84 70 88 36 81]\n",
      "[12 12 21 31 70 84 70 88 36 81]\n",
      "[12 12 21 31 31 84 70 88 36 81]\n",
      "[12 12 21 31 31 84 70 88 36 81]\n",
      "[12 12 21 31 31 84 70 88 36 81]\n",
      "[12 12 21 31 31 84 70 88 36 81]\n",
      "[12 12 21 31 31 81 70 88 36 81]\n",
      "[12 12 21 31 31 81 70 88 36 88]\n",
      "[12 12 21 31 31 81 70 36 36 88]\n",
      "[12 12 21 31 31 81 70 36 36 88]\n",
      "[12 12 21 31 31 36 70 36 84 88]\n",
      "[12 12 21 31 31 36 70 36 84 88]\n",
      "[12 12 21 31 31 36 70 81 84 88]\n",
      "[12 12 21 31 31 36 70 81 84 88]\n"
     ]
    },
    {
     "data": {
      "text/plain": [
       "array([12, 12, 21, 31, 31, 36, 70, 81, 84, 88])"
      ]
     },
     "execution_count": 59,
     "metadata": {},
     "output_type": "execute_result"
    }
   ],
   "source": [
    "QuickSort2(np.random.randint(0,100,10),0,9)"
   ]
  },
  {
   "cell_type": "code",
   "execution_count": null,
   "metadata": {},
   "outputs": [],
   "source": []
  },
  {
   "cell_type": "code",
   "execution_count": null,
   "metadata": {},
   "outputs": [],
   "source": []
  }
 ],
 "metadata": {
  "kernelspec": {
   "display_name": "Python 3",
   "language": "python",
   "name": "python3"
  },
  "language_info": {
   "codemirror_mode": {
    "name": "ipython",
    "version": 3
   },
   "file_extension": ".py",
   "mimetype": "text/x-python",
   "name": "python",
   "nbconvert_exporter": "python",
   "pygments_lexer": "ipython3",
   "version": "3.7.1"
  },
  "toc": {
   "base_numbering": 1,
   "nav_menu": {},
   "number_sections": true,
   "sideBar": true,
   "skip_h1_title": false,
   "title_cell": "Table of Contents",
   "title_sidebar": "Contents",
   "toc_cell": false,
   "toc_position": {},
   "toc_section_display": true,
   "toc_window_display": false
  },
  "varInspector": {
   "cols": {
    "lenName": 16,
    "lenType": 16,
    "lenVar": 40
   },
   "kernels_config": {
    "python": {
     "delete_cmd_postfix": "",
     "delete_cmd_prefix": "del ",
     "library": "var_list.py",
     "varRefreshCmd": "print(var_dic_list())"
    },
    "r": {
     "delete_cmd_postfix": ") ",
     "delete_cmd_prefix": "rm(",
     "library": "var_list.r",
     "varRefreshCmd": "cat(var_dic_list()) "
    }
   },
   "types_to_exclude": [
    "module",
    "function",
    "builtin_function_or_method",
    "instance",
    "_Feature"
   ],
   "window_display": false
  }
 },
 "nbformat": 4,
 "nbformat_minor": 2
}
