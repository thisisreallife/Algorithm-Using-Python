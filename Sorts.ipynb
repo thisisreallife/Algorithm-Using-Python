{
 "cells": [
  {
   "cell_type": "markdown",
   "metadata": {},
   "source": [
    "# 排序"
   ]
  },
  {
   "cell_type": "markdown",
   "metadata": {},
   "source": [
    "素材：\n",
    "1. [史上最简单十大排序算法（Python实现）](https://blog.csdn.net/weixin_41571493/article/details/81875088)\n",
    "2. [Python实现十大经典排序算法](https://www.jianshu.com/p/bbbab7fa77a2)\n",
    "3. [Python实现十三大查找和排序算法](https://blog.csdn.net/Asher117/article/details/89500637)\n",
    "4. [All Algorithms implemented in Python](https://github.com/TheAlgorithms/Python)"
   ]
  },
  {
   "cell_type": "markdown",
   "metadata": {
    "ExecuteTime": {
     "end_time": "2019-10-25T11:36:44.287793Z",
     "start_time": "2019-10-25T11:36:44.285793Z"
    }
   },
   "source": [
    "## 排序的分类 与 相关概念"
   ]
  },
  {
   "cell_type": "markdown",
   "metadata": {},
   "source": [
    "**是否使用额外空间**：\n",
    "- 内部排序：只使用内存\n",
    "- 外部排序：内存和外存同时使用\n",
    "\n",
    "**时间复杂度**：\n",
    "- 非线性时间比较类排序：通过比较来决定元素间的相对次序，由于其时间复杂度不能突破O(nlogn)，因此称为非线性时间比较类排序、\n",
    "- 线性时间非比较类排序： 不通过比较来决定元素间的相对次序，它可以突破基于比较排序的时间下界，以线性时间运行，因此称为线性时间非比较类排序。"
   ]
  },
  {
   "cell_type": "markdown",
   "metadata": {
    "ExecuteTime": {
     "end_time": "2019-10-25T11:48:00.378232Z",
     "start_time": "2019-10-25T11:48:00.359282Z"
    }
   },
   "source": [
    "**相关概念：**\n",
    "- 稳定：如果a=b，排序不改变他们原始的次序\n",
    "- 时间复杂度：对于排序数据的总的操作次数与n的关系\n",
    "- 空间复杂度：算法执行时所需要的储存空间大小与n的关系"
   ]
  },
  {
   "cell_type": "markdown",
   "metadata": {},
   "source": [
    "### 冒泡排序 Bubble Sort"
   ]
  },
  {
   "cell_type": "markdown",
   "metadata": {},
   "source": [
    "> 思想：\n",
    "1. 比较相邻的元素，如果第一个比第二个更大，那么交换他们两\n",
    "2. 对每一对相邻的元素做同样的操作，从最开始的前两个数，到最后两个数。这样排在最后的数会是整个数列中最大的\n",
    "3. 对数列重复以上操作，排除最后一个已经被排好序的数字。\n",
    "4. 重复1-3，直到排序完成\n",
    "\n",
    "冒泡排序对n个数据操作n-1轮，每一轮能找到一个最大值。\n",
    "\n",
    "操作只对相邻两个数进行比较与交换，每一轮能把最值交换到数据的列尾，就像冒泡一样。\n",
    "\n",
    "每一轮操作O(n)次，共O(n)轮，所以时间复杂度是O(n^2)\n",
    "\n",
    "额外空间开销出现在交换数据的时候，需要一个过渡空间，空间复杂度是O(1)"
   ]
  },
  {
   "cell_type": "code",
   "execution_count": 3,
   "metadata": {
    "ExecuteTime": {
     "end_time": "2019-10-26T02:47:34.566307Z",
     "start_time": "2019-10-26T02:47:34.278322Z"
    }
   },
   "outputs": [],
   "source": [
    "import numpy as np\n",
    "def BubbleSort(arr):\n",
    "    n = len(arr)\n",
    "    if n <= 1:\n",
    "        return arr\n",
    "    else:\n",
    "        for i in range(n):\n",
    "            for j in range(n-i-1):\n",
    "                if arr[j] > arr[j+1]:\n",
    "                    arr[j+1],arr[j] = arr[j],arr[j+1]\n",
    "        return arr"
   ]
  },
  {
   "cell_type": "code",
   "execution_count": 67,
   "metadata": {
    "ExecuteTime": {
     "end_time": "2019-10-26T04:57:26.544424Z",
     "start_time": "2019-10-26T04:57:26.541432Z"
    }
   },
   "outputs": [],
   "source": [
    "def test_case(method,arr,**kwargs):\n",
    "    print('排序前的数列：\\n',np.array(arr))\n",
    "    print('排序后的数列：\\n',np.array(method(arr,**kwargs)))\n",
    "    "
   ]
  },
  {
   "cell_type": "code",
   "execution_count": 5,
   "metadata": {
    "ExecuteTime": {
     "end_time": "2019-10-26T02:47:34.579266Z",
     "start_time": "2019-10-26T02:47:34.572285Z"
    }
   },
   "outputs": [
    {
     "name": "stdout",
     "output_type": "stream",
     "text": [
      "排序前的数列：\n",
      " [ 1  3  4 -1]\n",
      "排序后的数列：\n",
      " [-1  1  3  4]\n"
     ]
    }
   ],
   "source": [
    "test_case(BubbleSort,[1, 3, 4, -1])"
   ]
  },
  {
   "cell_type": "markdown",
   "metadata": {
    "ExecuteTime": {
     "end_time": "2019-10-25T12:40:05.919203Z",
     "start_time": "2019-10-25T12:40:05.917213Z"
    }
   },
   "source": [
    "### 快速排序 Quick Sort"
   ]
  },
  {
   "cell_type": "markdown",
   "metadata": {},
   "source": [
    "> 思想\n",
    "- 从数列中挑选一个元素，称为基准(pivot)\n",
    "- 重新排序数列，所有比基准值小的元素摆放在基准的前面，所有比基准值大的元素摆放在基准的后面，相同的数可以摆放到任意一边。在这个分区退出之后，该基准就处于数列的中间位置。这个称为分区(partition)操作\n",
    "- 递归地把小于基准的子数列和大于基准的子数列进行排序\n",
    "\n",
    "快速排序基于选择划分，是简单选择排序的优化。\n",
    "\n",
    "每次划分将数据宣导基准值的两边，然后递归对于两侧的数据进行划分，类似于二分法。\n",
    "\n",
    "算法的整体性能取决于划分的平均程度，也即基准值的选择，从而衍生出快速排序的很多优化方案，甚至可以划分成多块。\n",
    "\n",
    "基准值如果能把数据分为平均的两块，划分数为O(logn)，每次划分遍历一遍需要O(n)，时间复杂度是O(nlogn)\n",
    "\n",
    "额外空间需要储存基准值，O(logn)次划分需要O(logn)个，空间复杂度O(logn)"
   ]
  },
  {
   "cell_type": "code",
   "execution_count": 6,
   "metadata": {
    "ExecuteTime": {
     "end_time": "2019-10-26T02:47:34.588242Z",
     "start_time": "2019-10-26T02:47:34.580264Z"
    }
   },
   "outputs": [],
   "source": [
    "# 空间复杂度O(nlogn)\n",
    "def QuickSort(arr):\n",
    "    if len(arr) <= 1:\n",
    "        return arr\n",
    "    else:\n",
    "        mid = arr[0]\n",
    "        left = [i for i in arr[1:] if i <= mid]\n",
    "        right = [i for i in arr[1:] if i > mid]\n",
    "        return QuickSort(left) + [mid] + QuickSort(right)"
   ]
  },
  {
   "cell_type": "code",
   "execution_count": 7,
   "metadata": {
    "ExecuteTime": {
     "end_time": "2019-10-26T02:47:37.031725Z",
     "start_time": "2019-10-26T02:47:37.027736Z"
    }
   },
   "outputs": [
    {
     "name": "stdout",
     "output_type": "stream",
     "text": [
      "排序前的数列：\n",
      " [667 146 631  40 453 987 918 975 775 233]\n",
      "排序后的数列：\n",
      " [ 40 146 233 453 631 667 775 918 975 987]\n"
     ]
    }
   ],
   "source": [
    "test_case(QuickSort,arr = list(np.random.randint(0,1000,size = 10)))"
   ]
  },
  {
   "cell_type": "code",
   "execution_count": 45,
   "metadata": {
    "ExecuteTime": {
     "end_time": "2019-10-26T04:51:04.435034Z",
     "start_time": "2019-10-26T04:51:04.429021Z"
    }
   },
   "outputs": [],
   "source": [
    "def QuickSort2(nums,left,right):\n",
    "    def partition(nums,left,right):\n",
    "        # 选取一个基准值，这边默认是第一个元素，有很多种优化方式\n",
    "        pivot = nums[left]\n",
    "        \n",
    "        \"\"\"\n",
    "        对于这个基准值，把小于等于基准的数挪到前方，大于等于基准的数挪到后方。\n",
    "        每个while循环里面，至多只能挪动一对数。\n",
    "        left < right表示终止条件，right指的是第一个小于基准的位置，\n",
    "        left指的是第一个大于等于基准的位置。如果left<right，表示对于这个基准来说，\n",
    "        数列已经被排好了。\n",
    "        \"\"\"\n",
    "        while left < right: \n",
    "            while left < right and nums[right] >= pivot:\n",
    "                right -= 1 # 从右边开始，第一个小于基准的数的位置\n",
    "            nums[left] = nums[right] # 把这个小于基准的数，放在序列的第一位\n",
    "            while left < right and nums[left] < pivot:\n",
    "                left += 1 # 从左边开始，第一个大于等于基准的数的位置\n",
    "            nums[right] = nums[left] # 把这个大于等于基准的数，放在序列中right的位置\n",
    "        nums[left] = pivot # 把基准值放在它应该在的位置 \n",
    "        return left\n",
    "        \n",
    "    # 对于子序列递归\n",
    "    if left < right:\n",
    "        pivotIndex = partition(nums, left, right)\n",
    "        QuickSort2(nums, left, pivotIndex - 1)\n",
    "        QuickSort2(nums, pivotIndex + 1, right)\n",
    "    return nums\n",
    "        "
   ]
  },
  {
   "cell_type": "code",
   "execution_count": 73,
   "metadata": {
    "ExecuteTime": {
     "end_time": "2019-10-26T04:57:50.176576Z",
     "start_time": "2019-10-26T04:57:50.172584Z"
    }
   },
   "outputs": [
    {
     "name": "stdout",
     "output_type": "stream",
     "text": [
      "排序前的数列：\n",
      " [380 397 152 894 185 636 814 724 595 432]\n",
      "排序后的数列：\n",
      " [152 185 380 397 432 595 636 724 814 894]\n"
     ]
    }
   ],
   "source": [
    "test_case(QuickSort2,arr = list(np.random.randint(0,1000,size = 10)),left = 0,right = 9)"
   ]
  },
  {
   "cell_type": "code",
   "execution_count": 78,
   "metadata": {
    "ExecuteTime": {
     "end_time": "2019-10-26T05:14:20.752776Z",
     "start_time": "2019-10-26T05:14:20.749785Z"
    }
   },
   "outputs": [
    {
     "name": "stdout",
     "output_type": "stream",
     "text": [
      "{'kwargs_1': 'Shark', 'kwargs_2': 4.5, 'kwargs_3': True}\n"
     ]
    }
   ],
   "source": [
    "def print_kwargs(**kwargs):\n",
    "        print(kwargs)\n",
    "\n",
    "print_kwargs(kwargs_1=\"Shark\", kwargs_2=4.5, kwargs_3=True)"
   ]
  },
  {
   "cell_type": "code",
   "execution_count": 79,
   "metadata": {
    "ExecuteTime": {
     "end_time": "2019-10-26T05:14:49.405637Z",
     "start_time": "2019-10-26T05:14:49.401648Z"
    }
   },
   "outputs": [
    {
     "name": "stdout",
     "output_type": "stream",
     "text": [
      "1\n"
     ]
    }
   ],
   "source": [
    "def print_args(*args):\n",
    "    print(args[0])\n",
    "\n",
    "print_args(1,2,3)"
   ]
  },
  {
   "cell_type": "markdown",
   "metadata": {},
   "source": [
    "### 插入排序"
   ]
  },
  {
   "cell_type": "markdown",
   "metadata": {},
   "source": [
    ">思想\n",
    "\n",
    "- 从第一个元素开始，认为该元素已经被排序好了\n",
    "- 取出下一个元素，在已经排序好的元素序列中从后往前扫描\n",
    "- 如果排序好的元素大于新元素，那么再继续向前比较\n",
    "- 直到找到已排序的序列中，小于等于该新元素的元素位置\n",
    "- 将新元素插入该位置后\n",
    "- 重复步骤2-5\n",
    "\n",
    "简单插入排操作n-1轮，每一轮将一个未排序的数字插入排好序的序列中。\n",
    "\n",
    "插入的操作包括：比较插入的位置，数据移位腾出合适的空位\n",
    "\n",
    "每一轮操作O(n)次，共O(n)轮，所以时间复杂度O(n^2)\n",
    "\n",
    "空间开销出在数据移动的过渡空间，O(1)\n",
    "\n"
   ]
  },
  {
   "cell_type": "code",
   "execution_count": null,
   "metadata": {},
   "outputs": [],
   "source": [
    "def insertionSort(nums):\n",
    "    for i in range(len(nums) - 1):  # 遍历 len(nums)-1 次\n",
    "        curNum, preIndex = nums[i+1], i  # curNum 保存当前待插入的数\n",
    "        while preIndex >= 0 and curNum < nums[preIndex]: # 将比 curNum 大的元素向后移动\n",
    "            nums[preIndex + 1] = nums[preIndex]\n",
    "            preIndex -= 1\n",
    "        nums[preIndex + 1] = curNum  # 待插入的数的正确位置   \n",
    "    return nums"
   ]
  },
  {
   "cell_type": "code",
   "execution_count": null,
   "metadata": {},
   "outputs": [],
   "source": [
    "def InsertSort(lst):\n",
    "    n=len(lst)\n",
    "    if n<=1:\n",
    "        return lst\n",
    "    for i in range(1,n):\n",
    "        j=i\n",
    "        target=lst[i]            #每次循环的一个待插入的数\n",
    "        while j>0 and target<lst[j-1]:       #比较、后移，给target腾位置\n",
    "            lst[j]=lst[j-1]\n",
    "            j=j-1\n",
    "        lst[j]=target            #把target插到空位\n"
   ]
  },
  {
   "cell_type": "code",
   "execution_count": 248,
   "metadata": {
    "ExecuteTime": {
     "end_time": "2019-10-26T06:10:18.825344Z",
     "start_time": "2019-10-26T06:10:18.820362Z"
    }
   },
   "outputs": [
    {
     "name": "stdout",
     "output_type": "stream",
     "text": [
      "[4, 77, 20, 90, 36, 12, 7, 50, 48]\n",
      "[4, 20, 77, 90, 36, 12, 7, 50, 48]\n",
      "[4, 20, 77, 90, 36, 12, 7, 50, 48]\n",
      "[4, 20, 36, 77, 90, 12, 7, 50, 48]\n",
      "[4, 12, 20, 36, 77, 90, 7, 50, 48]\n",
      "[4, 7, 12, 20, 36, 77, 90, 50, 48]\n",
      "[4, 7, 12, 20, 36, 50, 77, 90, 48]\n",
      "[4, 7, 12, 20, 36, 48, 50, 77, 90]\n"
     ]
    }
   ],
   "source": [
    "nums = [77,4,20,90,36,12,7,50,48]\n",
    "for i in range(1,len(nums)):\n",
    "    current = nums[i]\n",
    "    j = i\n",
    "    while(j>0 and current<nums[j-1]):\n",
    "        nums[j] = nums[j-1]\n",
    "        j = j -1\n",
    "    nums[j] = current\n",
    "    print(nums)"
   ]
  },
  {
   "cell_type": "code",
   "execution_count": 244,
   "metadata": {
    "ExecuteTime": {
     "end_time": "2019-10-26T06:09:17.497233Z",
     "start_time": "2019-10-26T06:09:17.492266Z"
    }
   },
   "outputs": [],
   "source": [
    "def InsertSort(arr):\n",
    "    n = len(arr)\n",
    "    for i in range(1,n):\n",
    "        # 给第i个数字进行排序\n",
    "        num_now = arr[i]\n",
    "        for j in range(i-1,-1,-1):\n",
    "            if num_now >= arr[j]:\n",
    "                pos = j+1\n",
    "                break\n",
    "            else:\n",
    "                pos = 0\n",
    "        arr[(pos + 1):(i + 1)] = arr[(pos):i]\n",
    "        arr[pos] = num_now\n",
    "    return arr\n",
    "            \n",
    "            "
   ]
  },
  {
   "cell_type": "code",
   "execution_count": 247,
   "metadata": {
    "ExecuteTime": {
     "end_time": "2019-10-26T06:09:34.392624Z",
     "start_time": "2019-10-26T06:09:34.389629Z"
    }
   },
   "outputs": [
    {
     "data": {
      "text/plain": [
       "[-1, 0, 0, 0, 1, 1, 2]"
      ]
     },
     "execution_count": 247,
     "metadata": {},
     "output_type": "execute_result"
    }
   ],
   "source": [
    "InsertSort([0,0,0,1,1,2,-1])"
   ]
  },
  {
   "cell_type": "markdown",
   "metadata": {},
   "source": [
    "what will happen? if we excute:\n",
    "\n",
    ">```\n",
    "num = [1,2,3,4]\n",
    "num[0:2],num[2:4] = num[2:4],num[0:2]\n",
    "```"
   ]
  },
  {
   "cell_type": "markdown",
   "metadata": {},
   "source": [
    "### 希尔排序\n",
    "> 思想\n",
    "- 选择一个递减到1的增量序列，$\\mathrm T = t_1 > \\cdots >t_k > \\cdots >t_K$,比如5,3,1\n",
    "- 对于每个$t_k$，对原序列进行K次排序\n",
    "- 每次排序中，根据$t_k$的值，将序列分割成长度为m的子序列，每个子序列进行插入排序，只改变子序列的元素相对位置。当增量因子为1的时候，相当于对所有元素进行插入排序\n",
    "\n",
    "希尔排序是插入排序的高效实现，因为能够减少插入排序的移动次数。\n",
    "\n",
    "简单插入排序每次插入都要移动大量数据，如果能一步到位，移动效率会高一些。\n",
    "\n",
    "如果序列是基本有序的，插入排序不必移动多次，效率会比较高。\n",
    "\n",
    "希尔排序将序列按照不同的间隔划分成子序列，在子序列中进行插入排序。相当于先远距离移动，使得序列基本有序。然后逐步减小间隔，最后间隔为1的时候进行一次插入排序。\n",
    "\n",
    "希尔排序对序列划分O(n)次，每次插入排序O(logn)，时间复杂度O(nlogn)\n",
    "\n",
    "额外的空间开销是由于插入过程中，数据移动需要一个暂存，空间复杂度O(1)\n",
    "\n"
   ]
  },
  {
   "cell_type": "code",
   "execution_count": 255,
   "metadata": {
    "ExecuteTime": {
     "end_time": "2019-10-26T07:53:55.227675Z",
     "start_time": "2019-10-26T07:53:55.222683Z"
    }
   },
   "outputs": [],
   "source": [
    "\n",
    "def ShellSort(lst):\n",
    "    def shellinsert(arr,d):\n",
    "        n=len(arr)\n",
    "        for i in range(d,n):\n",
    "            j=i-d\n",
    "            temp=arr[i]             #记录要出入的数\n",
    "            while(j>=0 and arr[j]>temp):    #从后向前，找打比其小的数的位置\n",
    "                arr[j+d]=arr[j]                 #向后挪动\n",
    "                j-=d\n",
    "            if j!=i-d:\n",
    "                arr[j+d]=temp\n",
    "    n=len(lst)\n",
    "    if n<=1:\n",
    "        return lst\n",
    "    d=n//2\n",
    "    while d>=1:\n",
    "        shellinsert(lst,d)\n",
    "        d=d//2\n",
    "    return lst"
   ]
  },
  {
   "cell_type": "code",
   "execution_count": null,
   "metadata": {},
   "outputs": [],
   "source": [
    "def shellSort(nums):\n",
    "    lens = len(nums)\n",
    "    gap = 1  \n",
    "    while gap < lens // 3:\n",
    "        gap = gap * 3 + 1  # 动态定义间隔序列\n",
    "    while gap > 0:\n",
    "        for i in range(gap, lens):\n",
    "            curNum, preIndex = nums[i], i - gap  # curNum 保存当前待插入的数\n",
    "            while preIndex >= 0 and curNum < nums[preIndex]:\n",
    "                nums[preIndex + gap] = nums[preIndex] # 将比 curNum 大的元素向后移动\n",
    "                preIndex -= gap\n",
    "            nums[preIndex + gap] = curNum  # 待插入的数的正确位置\n",
    "        gap //= 3  # 下一个动态间隔\n",
    "    return nums"
   ]
  },
  {
   "cell_type": "code",
   "execution_count": 312,
   "metadata": {
    "ExecuteTime": {
     "end_time": "2019-10-26T08:33:48.013018Z",
     "start_time": "2019-10-26T08:33:48.008055Z"
    }
   },
   "outputs": [],
   "source": [
    "def ShellSort(arr):\n",
    "    def ShellInset(arr,d):\n",
    "        \"\"\"\n",
    "        arr: list to be sorted\n",
    "        d: T_k,the distance of each sub-list\n",
    "        \"\"\"\n",
    "        n = len(arr)\n",
    "        for i in range(n):\n",
    "            now_num = arr[i]\n",
    "            for j in range(i-d, -1, -d):\n",
    "                if arr[j] > now_num:\n",
    "                    arr[j+d] = arr[j]\n",
    "                    arr[j] = now_num\n",
    "                else:\n",
    "                    break\n",
    "        return arr\n",
    "    n = len(arr)\n",
    "    d = n // 2\n",
    "    \n",
    "    while d >= 1:\n",
    "        arr = ShellInset(arr,d)\n",
    "        d //= 2\n",
    "    return arr\n",
    "        "
   ]
  },
  {
   "cell_type": "code",
   "execution_count": 315,
   "metadata": {
    "ExecuteTime": {
     "end_time": "2019-10-26T08:34:10.553352Z",
     "start_time": "2019-10-26T08:34:10.549387Z"
    },
    "scrolled": true
   },
   "outputs": [
    {
     "name": "stdout",
     "output_type": "stream",
     "text": [
      "排序前的数列：\n",
      " [56 44 96 18 88 28 29 38  1  5]\n",
      "排序后的数列：\n",
      " [ 1  5 18 28 29 38 44 56 88 96]\n"
     ]
    }
   ],
   "source": [
    "test_case(method = ShellSort, arr = np.random.randint(0,100,10))"
   ]
  },
  {
   "cell_type": "markdown",
   "metadata": {},
   "source": [
    "### 简单选择排序\n",
    "> 思想\n",
    "- "
   ]
  },
  {
   "cell_type": "code",
   "execution_count": null,
   "metadata": {},
   "outputs": [],
   "source": []
  }
 ],
 "metadata": {
  "kernelspec": {
   "display_name": "Python 3",
   "language": "python",
   "name": "python3"
  },
  "language_info": {
   "codemirror_mode": {
    "name": "ipython",
    "version": 3
   },
   "file_extension": ".py",
   "mimetype": "text/x-python",
   "name": "python",
   "nbconvert_exporter": "python",
   "pygments_lexer": "ipython3",
   "version": "3.7.1"
  },
  "toc": {
   "base_numbering": 1,
   "nav_menu": {},
   "number_sections": true,
   "sideBar": true,
   "skip_h1_title": false,
   "title_cell": "Table of Contents",
   "title_sidebar": "Contents",
   "toc_cell": false,
   "toc_position": {},
   "toc_section_display": true,
   "toc_window_display": false
  },
  "varInspector": {
   "cols": {
    "lenName": 16,
    "lenType": 16,
    "lenVar": 40
   },
   "kernels_config": {
    "python": {
     "delete_cmd_postfix": "",
     "delete_cmd_prefix": "del ",
     "library": "var_list.py",
     "varRefreshCmd": "print(var_dic_list())"
    },
    "r": {
     "delete_cmd_postfix": ") ",
     "delete_cmd_prefix": "rm(",
     "library": "var_list.r",
     "varRefreshCmd": "cat(var_dic_list()) "
    }
   },
   "types_to_exclude": [
    "module",
    "function",
    "builtin_function_or_method",
    "instance",
    "_Feature"
   ],
   "window_display": false
  }
 },
 "nbformat": 4,
 "nbformat_minor": 2
}
